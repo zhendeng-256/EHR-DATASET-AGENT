{
 "cells": [
  {
   "cell_type": "code",
   "execution_count": 90,
   "id": "8c94b839-c6e3-48d4-b755-5cbf5f717893",
   "metadata": {},
   "outputs": [
    {
     "ename": "ImportError",
     "evalue": "cannot import name 'LlamaIndex' from 'llama_index' (unknown location)",
     "output_type": "error",
     "traceback": [
      "\u001b[0;31m---------------------------------------------------------------------------\u001b[0m",
      "\u001b[0;31mImportError\u001b[0m                               Traceback (most recent call last)",
      "Cell \u001b[0;32mIn[90], line 2\u001b[0m\n\u001b[1;32m      1\u001b[0m \u001b[38;5;66;03m# llama tool set \u001b[39;00m\n\u001b[0;32m----> 2\u001b[0m \u001b[38;5;28;01mfrom\u001b[39;00m \u001b[38;5;21;01mllama_index\u001b[39;00m \u001b[38;5;28;01mimport\u001b[39;00m LlamaIndex\n\u001b[1;32m      3\u001b[0m \u001b[38;5;28;01mfrom\u001b[39;00m \u001b[38;5;21;01mllama_index\u001b[39;00m\u001b[38;5;21;01m.\u001b[39;00m\u001b[38;5;21;01mcore\u001b[39;00m \u001b[38;5;28;01mimport\u001b[39;00m SQLDatabase\n\u001b[1;32m      4\u001b[0m \u001b[38;5;28;01mimport\u001b[39;00m \u001b[38;5;21;01mjson\u001b[39;00m\n",
      "\u001b[0;31mImportError\u001b[0m: cannot import name 'LlamaIndex' from 'llama_index' (unknown location)"
     ]
    }
   ],
   "source": [
    "# llama tool set \n",
    "from llama_index import LlamaIndex\n",
    "from llama_index.core import SQLDatabase\n",
    "import json\n",
    "import openai\n",
    "from sqlalchemy import (\n",
    "    create_engine,\n",
    "    MetaData,\n",
    "    Table,\n",
    "    Column,\n",
    "    String,\n",
    "    Integer,\n",
    "    select,\n",
    "    column,\n",
    "    Text,\n",
    ")"
   ]
  },
  {
   "cell_type": "code",
   "execution_count": 79,
   "id": "601eb691-12eb-4995-842d-cae4fdafc8a4",
   "metadata": {},
   "outputs": [],
   "source": [
    "# sets data for our json file\n",
    "with open('data/EHR-SeqSQL-data.json','r') as file:\n",
    "    data = json.load(file)\n",
    "#print(data[:2])\n",
    "#print(data[:1][0].keys())# visualizes the data\n",
    "#print(data[0]['value'])"
   ]
  },
  {
   "cell_type": "code",
   "execution_count": 80,
   "id": "b476b7d9-ed22-4057-99e5-58e27745486e",
   "metadata": {
    "scrolled": true
   },
   "outputs": [],
   "source": [
    "engine = create_engine(\"sqlite:///:EHR-SEQSQL.db:\", future=True)\n",
    "#creating the sql tables\n",
    "metadata_obj = MetaData()\n",
    "patient_stats_table = Table(\n",
    "    \"patient_stats\",\n",
    "    metadata_obj,\n",
    "    Column(\"id\", String(36), primary_key=True),\n",
    "    Column(\"seed_question\", Text, nullable=False),\n",
    "    Column(\"value\", Text, nullable=False),\n",
    "    Column(\"question\", Text, nullable=False),\n",
    "    Column(\"question_template\", Text, nullable=False),\n",
    "    Column(\"sql\", Text, nullable=False),\n",
    "    Column(\"seqsql\", Text, nullable=False),\n",
    "    Column(\"department\", Text, nullable=False),\n",
    "    Column(\"importance\", String(10), nullable=False),\n",
    "    Column(\"compositional_split\", String(10), nullable=False),\n",
    "    Column(\"random_split\", String(10), nullable=False),\n",
    ")"
   ]
  },
  {
   "cell_type": "code",
   "execution_count": 81,
   "id": "df9314f0-aeb5-4da7-9a3f-672fbaa9996a",
   "metadata": {},
   "outputs": [],
   "source": [
    "# Create the table in the database\n",
    "metadata_obj.create_all(engine)"
   ]
  },
  {
   "cell_type": "code",
   "execution_count": 82,
   "id": "0fb81b5f-5775-422c-8a5e-2111d60cc960",
   "metadata": {},
   "outputs": [],
   "source": [
    "#inputting the data \n",
    "with engine.connect() as connection:\n",
    "    for record in data:\n",
    "        # Flatten the dictionary for insertion\n",
    "        #print(record)\n",
    "            value = next(iter(record['value'].values()), '') \n",
    "            flattened_record = {\n",
    "                'id': record['id'],\n",
    "                'seed_question': record['seed_question'],\n",
    "                #'value': record['value']['drug_name'],  # Extract drug name\n",
    "                'value': value,\n",
    "                'question': record['question'][0],       # Take the first question\n",
    "                'question_template': record['question_template'][0],  # First template\n",
    "                'sql': record['sql'][0],                 # First SQL query\n",
    "                'seqsql': record['seqsql'][0],           # First seqsql\n",
    "                'department': record['department'],\n",
    "                'importance': record['importance'],\n",
    "                'compositional_split': record['compositional_split'],\n",
    "                'random_split': record['random_split'],\n",
    "            }\n",
    "            connection.execute(patient_stats_table.insert().values(flattened_record).prefix_with(\"OR REPLACE\"))\n",
    "\n"
   ]
  },
  {
   "cell_type": "code",
   "execution_count": 83,
   "id": "bb1b73cd-8ace-4004-8a4f-e5c1c3d3cc00",
   "metadata": {},
   "outputs": [
    {
     "name": "stdout",
     "output_type": "stream",
     "text": [
      "{'id': 'be6a88096e737997f72e2690', 'seed_question': 'give me the top five most frequently tested cultures that patients took during the same hospital visit after being diagnosed with fx mult ribs nos-closed since 2105.', 'value': 'fx mult ribs nos-closed', 'question': 'List all hospitalization ids, patient ids, and diagnosis times for fx mult ribs nos-closed cases since 2105.', 'question_template': 'List all patient ids, time of diagnoses and hospitalization ids associated with diagnosis named fx mult ribs nos-closed since 2105.', 'sql': \"SELECT admissions.subject_id, diagnoses_icd.charttime, admissions.hadm_id FROM diagnoses_icd JOIN admissions ON diagnoses_icd.hadm_id = admissions.hadm_id WHERE diagnoses_icd.icd9_code = ( SELECT d_icd_diagnoses.icd9_code FROM d_icd_diagnoses WHERE d_icd_diagnoses.short_title = 'fx mult ribs nos-closed' ) AND strftime('%Y',diagnoses_icd.charttime) >= '2105'\", 'seqsql': \"SELECT admissions.subject_id, diagnoses_icd.charttime, admissions.hadm_id FROM diagnoses_icd JOIN admissions ON diagnoses_icd.hadm_id = admissions.hadm_id WHERE diagnoses_icd.icd9_code = ( SELECT d_icd_diagnoses.icd9_code FROM d_icd_diagnoses WHERE d_icd_diagnoses.short_title = 'fx mult ribs nos-closed' ) AND strftime('%Y',diagnoses_icd.charttime) >= '2105'\", 'department': \"['-']\", 'importance': 'n/a', 'compositional_split': 'test', 'random_split': 'test'}\n"
     ]
    }
   ],
   "source": [
    "print(flattened_record) "
   ]
  },
  {
   "cell_type": "code",
   "execution_count": 84,
   "id": "8d122c21-ccc8-4a03-93c3-115ed1e8221e",
   "metadata": {},
   "outputs": [
    {
     "name": "stdout",
     "output_type": "stream",
     "text": [
      "Total records in table: 0\n"
     ]
    }
   ],
   "source": [
    "with engine.connect() as connection:\n",
    "    result = connection.execute(select(patient_stats_table)).fetchall()\n",
    "    print(f\"Total records in table: {len(result)}\")\n",
    "\n"
   ]
  },
  {
   "cell_type": "code",
   "execution_count": 85,
   "id": "b5514176-9557-498f-b06e-1ee1bce81aee",
   "metadata": {},
   "outputs": [],
   "source": [
    "# Text to Sql\n",
    "def translate_text_to_sql(query):\n",
    "    relevant_docs = index.query(query)\n",
    "    sql_queries = [doc['sql'] for doc in relevant_docs if 'sql' in doc]\n",
    "    return sql_queries"
   ]
  },
  {
   "cell_type": "code",
   "execution_count": 86,
   "id": "4fd9167f-7520-45a4-bf30-6e53733d6b38",
   "metadata": {},
   "outputs": [],
   "source": [
    "# Execute the SQL Queries\n",
    "def execute_query(sql_query):\n",
    "    with engine.connect() as connection:\n",
    "        result = connection.execute(sql_query).fetchall()\n",
    "        return result"
   ]
  },
  {
   "cell_type": "code",
   "execution_count": 89,
   "id": "129cdc55-e988-4998-b6a1-fe3995342e4c",
   "metadata": {},
   "outputs": [
    {
     "ename": "NameError",
     "evalue": "name 'LlamaIndex' is not defined",
     "output_type": "error",
     "traceback": [
      "\u001b[0;31m---------------------------------------------------------------------------\u001b[0m",
      "\u001b[0;31mNameError\u001b[0m                                 Traceback (most recent call last)",
      "Cell \u001b[0;32mIn[89], line 1\u001b[0m\n\u001b[0;32m----> 1\u001b[0m index \u001b[38;5;241m=\u001b[39m \u001b[43mLlamaIndex\u001b[49m()\n\u001b[1;32m      2\u001b[0m user_query \u001b[38;5;241m=\u001b[39m \u001b[38;5;124m\"\u001b[39m\u001b[38;5;124mWhat is the intake method of send 500mg vial?\u001b[39m\u001b[38;5;124m\"\u001b[39m\n\u001b[1;32m      3\u001b[0m sql_queries \u001b[38;5;241m=\u001b[39m translate_text_to_sql(user_query)\n",
      "\u001b[0;31mNameError\u001b[0m: name 'LlamaIndex' is not defined"
     ]
    }
   ],
   "source": [
    "index = LlamaIndex()\n",
    "user_query = \"What is the intake method of send 500mg vial?\"\n",
    "sql_queries = translate_text_to_sql(user_query)\n",
    "\n",
    "if sql_queries:\n",
    "    for sql_query in sql_queries:\n",
    "        results = execute_query(sql_query)\n",
    "        print(\"Results for query:\", sql_query)\n",
    "        for row in results:\n",
    "            print(row)\n",
    "else:\n",
    "    print(\"No valid SQL query generated.\")"
   ]
  },
  {
   "cell_type": "code",
   "execution_count": 91,
   "id": "ff260d0c-f98f-4869-8909-ac85369529e4",
   "metadata": {},
   "outputs": [],
   "source": [
    "# llm integration\n",
    "def generate_sql_from_llm(user_query):\n",
    "    prompt = f\"Translate the following question into an SQL query: {user_query}\"\n",
    "    \n",
    "    response = openai.ChatCompletion.create(\n",
    "        model=\"gpt-3.5-turbo\",  # or any other model you're using\n",
    "        messages=[{\"role\": \"user\", \"content\": prompt}]\n",
    "    )\n",
    "    \n",
    "    sql_query = response['choices'][0]['message']['content']\n",
    "    return sql_query\n"
   ]
  },
  {
   "cell_type": "code",
   "execution_count": 92,
   "id": "08c4d3c5-58ab-44e5-840f-8dfba8e0ab3b",
   "metadata": {},
   "outputs": [],
   "source": [
    "def translate_text_to_sql(user_query):\n",
    "    # Use LLM to generate SQL\n",
    "    sql_query = generate_sql_from_llm(user_query)\n",
    "    return sql_query\n"
   ]
  },
  {
   "cell_type": "code",
   "execution_count": null,
   "id": "2f455857-dcff-495b-8826-1a8cc57d2759",
   "metadata": {},
   "outputs": [],
   "source": []
  }
 ],
 "metadata": {
  "kernelspec": {
   "display_name": "Python 3 (ipykernel)",
   "language": "python",
   "name": "python3"
  },
  "language_info": {
   "codemirror_mode": {
    "name": "ipython",
    "version": 3
   },
   "file_extension": ".py",
   "mimetype": "text/x-python",
   "name": "python",
   "nbconvert_exporter": "python",
   "pygments_lexer": "ipython3",
   "version": "3.12.5"
  }
 },
 "nbformat": 4,
 "nbformat_minor": 5
}
